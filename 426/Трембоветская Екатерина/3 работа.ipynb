{
 "cells": [
  {
   "cell_type": "code",
   "execution_count": 1,
   "id": "0cb8348b",
   "metadata": {},
   "outputs": [
    {
     "name": "stdout",
     "output_type": "stream",
     "text": [
      "Вариант: 1\n",
      "Метод половинного деления\n",
      "Введите, пожалуйста, точность вычисления: 0.001\n",
      "Моё уравнение: f(x) = x^4-x-1\n",
      "Корень уравнения:  1.2213134765625\n"
     ]
    }
   ],
   "source": [
    "import numpy as np\n",
    "import math\n",
    "\n",
    "print('Вариант:', 1)\n",
    "print('Метод половинного деления')\n",
    "\n",
    "eps = float(input(\"Введите, пожалуйста, точность вычисления: \")) \n",
    "\n",
    "x = 0 # начальная точка\n",
    "y = 5 # конечная точка\n",
    "\n",
    "c = 1 \n",
    " \n",
    "def f(x): \n",
    "    return x**4-x-1\n",
    " \n",
    "def epsilon(y, x): \n",
    "    return abs(y - x) \n",
    " \n",
    "def c_func(y, x): \n",
    "    return (y + x) / 2\n",
    " \n",
    "def dihotomia(x, y, c): \n",
    "    if f(x) * f(y) < 0: \n",
    "        if epsilon(y,x)>eps: \n",
    "            if f(y)*f(c_func(y, x))<0: \n",
    "                x = c_func(y,x) \n",
    "                c = x \n",
    "                dihotomia(x, y, c) \n",
    "            else: \n",
    "                y = c_func(y, x) \n",
    "                c = y\n",
    "                dihotomia(x, y, c) \n",
    "        else: \n",
    "            print(\"Моё уравнение: f(x) = x^4-x-1\")\n",
    "            print('Корень уравнения: ', c)\n",
    "dihotomia(x, y, c)"
   ]
  },
  {
   "cell_type": "code",
   "execution_count": null,
   "id": "6539b55d",
   "metadata": {},
   "outputs": [],
   "source": []
  }
 ],
 "metadata": {
  "kernelspec": {
   "display_name": "Python 3 (ipykernel)",
   "language": "python",
   "name": "python3"
  },
  "language_info": {
   "codemirror_mode": {
    "name": "ipython",
    "version": 3
   },
   "file_extension": ".py",
   "mimetype": "text/x-python",
   "name": "python",
   "nbconvert_exporter": "python",
   "pygments_lexer": "ipython3",
   "version": "3.9.7"
  }
 },
 "nbformat": 4,
 "nbformat_minor": 5
}
