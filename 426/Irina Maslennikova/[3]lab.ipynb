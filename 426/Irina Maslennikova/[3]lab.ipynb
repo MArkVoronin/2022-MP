{
 "cells": [
  {
   "cell_type": "code",
   "execution_count": 2,
   "id": "96705b90",
   "metadata": {},
   "outputs": [
    {
     "name": "stdout",
     "output_type": "stream",
     "text": [
      "Enter epsilon value: 0.0000001\n",
      "~~~~~~~~~~~~~~~~~~~~~~~~~~~~~~~~~~~~~~~~~\n",
      "          x = 2.5038192761031803         \n",
      "      f(x) = -5.753486154169707e-08      \n",
      "Root has been found during 48 iterations.\n",
      "~~~~~~~~~~~~~~~~~~~~~~~~~~~~~~~~~~~~~~~~~\n"
     ]
    }
   ],
   "source": [
    "import math as m\n",
    "\n",
    "\n",
    "def func(x: float) -> float:\n",
    "    return 2 * m.sin(x) - m.atan(x)\n",
    "\n",
    "\n",
    "def simple_iters(approx_val: float, epsilon: float, param: float = 1.,\n",
    "                 iters_limit: int = 1000, function=func) -> tuple:\n",
    "    x = approx_val\n",
    "\n",
    "    for iteration_number in range(1, iters_limit):\n",
    "        dx = param * function(x)\n",
    "        x = x + dx\n",
    "        if abs(dx) < epsilon:\n",
    "            break\n",
    "\n",
    "    return x, iteration_number\n",
    "\n",
    "\n",
    "def get_epsilon_from_input() -> float:\n",
    "    return float(input(\"Enter epsilon value: \"))\n",
    "\n",
    "\n",
    "def print_result(x: float, iteration_number: int) -> None:\n",
    "    found_line = \"Root has been found during {} iterations.\".format(iteration_number)\n",
    "    found_line_len = len(found_line)\n",
    "    lines = (\n",
    "        \"~\" * found_line_len,\n",
    "        \"x = {}\".format(x).center(found_line_len, \" \"),\n",
    "        \"f(x) = {}\".format(func(x)).center(found_line_len, \" \"),\n",
    "        found_line,\n",
    "        \"~\" * found_line_len,\n",
    "    )\n",
    "    tuple(print(line) for line in lines)\n",
    "\n",
    "\n",
    "def main() -> None:\n",
    "    a, b = 2.5, 2.6\n",
    "    epsilon = get_epsilon_from_input()\n",
    "    result, iters_num = simple_iters(approx_val=((a+b)/2), epsilon=epsilon)\n",
    "    print_result(result, iters_num)\n",
    "\n",
    "\n",
    "if __name__ == \"__main__\":\n",
    "    main()\n"
   ]
  },
  {
   "cell_type": "code",
   "execution_count": null,
   "id": "9502ef8d",
   "metadata": {},
   "outputs": [],
   "source": []
  }
 ],
 "metadata": {
  "kernelspec": {
   "display_name": "Python 3 (ipykernel)",
   "language": "python",
   "name": "python3"
  },
  "language_info": {
   "codemirror_mode": {
    "name": "ipython",
    "version": 3
   },
   "file_extension": ".py",
   "mimetype": "text/x-python",
   "name": "python",
   "nbconvert_exporter": "python",
   "pygments_lexer": "ipython3",
   "version": "3.9.7"
  }
 },
 "nbformat": 4,
 "nbformat_minor": 5
}
