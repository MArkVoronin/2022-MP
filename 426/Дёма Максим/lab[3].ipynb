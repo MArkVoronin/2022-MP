{
 "cells": [
  {
   "cell_type": "code",
   "execution_count": 1,
   "metadata": {},
   "outputs": [
    {
     "name": "stdout",
     "output_type": "stream",
     "text": [
      "Вариант №:  1\n",
      "x=  1.9998779296875\n"
     ]
    },
    {
     "data": {
      "text/plain": [
       "()"
      ]
     },
     "execution_count": 1,
     "metadata": {},
     "output_type": "execute_result"
    }
   ],
   "source": [
    "import numpy as np\n",
    "import math\n",
    "\n",
    "\n",
    "def X(a):\n",
    "    return((2-a)*math.exp(a))\n",
    "\n",
    "def Find_x(eps,a,b,c):    \n",
    "    if(abs(X((a+b)/2)-X(a))<eps)or(abs(X((a+b)/2)-X(a))<eps):\n",
    "        print(\"x= \",(a+b)/2)\n",
    "    elif(X((a+b)/2)*c>0.):\n",
    "        Find_x(eps,(a+b)/2,b,c)\n",
    "    else:\n",
    "        Find_x(eps,a,(a+b)/2,c)\n",
    "    return()\n",
    "\n",
    "\n",
    "a=1.\n",
    "b=5.\n",
    "eps=10e-4\n",
    "#далее эти переменные не изменяются\n",
    "\n",
    "print(\"Вариант №: \",len(\"Дёма Максим Сергеевич\")%5)\n",
    "Find_x(eps,a,b,X(a))"
   ]
  },
  {
   "cell_type": "code",
   "execution_count": null,
   "metadata": {},
   "outputs": [],
   "source": []
  }
 ],
 "metadata": {
  "kernelspec": {
   "display_name": "Python 3",
   "language": "python",
   "name": "python3"
  },
  "language_info": {
   "codemirror_mode": {
    "name": "ipython",
    "version": 3
   },
   "file_extension": ".py",
   "mimetype": "text/x-python",
   "name": "python",
   "nbconvert_exporter": "python",
   "pygments_lexer": "ipython3",
   "version": "3.7.3"
  }
 },
 "nbformat": 4,
 "nbformat_minor": 2
}
