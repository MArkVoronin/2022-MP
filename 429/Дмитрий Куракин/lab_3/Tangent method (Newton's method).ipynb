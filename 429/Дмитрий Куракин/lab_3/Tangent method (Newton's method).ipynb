{
 "cells": [
  {
   "cell_type": "code",
   "execution_count": 8,
   "id": "dca3cfa7",
   "metadata": {},
   "outputs": [
    {
     "name": "stdout",
     "output_type": "stream",
     "text": [
      "Enter the accuracy value: 0.00001\n",
      "The number of iterations:  5\n",
      "The root of the equation:  0.18743892873054832\n"
     ]
    },
    {
     "data": {
      "image/png": "[encoded data removed]",
      "text/plain": [
       "<Figure size 432x288 with 1 Axes>"
      ]
     },
     "metadata": {
      "needs_background": "light"
     },
     "output_type": "display_data"
    }
   ],
   "source": [
    "import matplotlib.pyplot as plt\n",
    "import numpy as np\n",
    "import math\n",
    "\n",
    "def func_target(x):\n",
    "    if (x > 0):\n",
    "        return (math.log(x) + (x + 1)**3)\n",
    "    else:\n",
    "        return (\"Invalid function argument: 'log(0)'\")\n",
    "    \n",
    "def func_der(x):\n",
    "    if (x > 0):\n",
    "        return (1/x + 3*x**2 + 6*x + 3)\n",
    "    else:\n",
    "        return (\"Invalid function argument: division by zero\")\n",
    "    \n",
    "# Tangent method = Newton's method    \n",
    "def newton(x_0, epsilon): \n",
    "    iteration = 0\n",
    "    \n",
    "    f_prev = 1\n",
    "    f_next = 2 * f_prev\n",
    "    \n",
    "    while (math.fabs(f_next - f_prev) > epsilon):\n",
    "        f_prev = func_target(x_0)\n",
    "        x_0 = (func_der(x_0) * x_0 - f_prev) / func_der(x_0)\n",
    "        f_next = func_target(x_0)\n",
    "        iteration += 1\n",
    "    print(\"The number of iterations: \", iteration)\n",
    "    return (x_0)\n",
    "###########################################################################################################################\n",
    "    \n",
    "epsilon = float(input(\"Enter the accuracy value: \"))\n",
    "\n",
    "left_border = 1e-16 # ~0\n",
    "right_border = 1\n",
    "step = 0.005\n",
    "\n",
    "# ---[Finding the root]---\n",
    "root = newton(right_border, epsilon)\n",
    "print(\"The root of the equation: \", root)\n",
    "\n",
    "# ---[Drawing a graph]---\n",
    "x_list = []\n",
    "y_list = []\n",
    "\n",
    "for x in np.arange(left_border, right_border, step):\n",
    "    x_list.append(x)\n",
    "    y_list.append(func_target(x))\n",
    "        \n",
    "y_line_null = np.zeros(len(y_list)) \n",
    "\n",
    "plt.plot(x_list, y_list, color = \"black\", linestyle = \"-\", linewidth = 2)\n",
    "plt.plot(x_list, y_line_null, color = \"red\", linestyle = \"-\", linewidth = 1)\n",
    "\n",
    "plt.grid(True)\n",
    "plt.show()"
   ]
  },
  {
   "cell_type": "code",
   "execution_count": null,
   "id": "a64c814f",
   "metadata": {},
   "outputs": [],
   "source": []
  },
  {
   "cell_type": "code",
   "execution_count": null,
   "id": "622af491",
   "metadata": {},
   "outputs": [],
   "source": []
  }
 ],
 "metadata": {
  "kernelspec": {
   "display_name": "Python 3",
   "language": "python",
   "name": "python3"
  },
  "language_info": {
   "codemirror_mode": {
    "name": "ipython",
    "version": 3
   },
   "file_extension": ".py",
   "mimetype": "text/x-python",
   "name": "python",
   "nbconvert_exporter": "python",
   "pygments_lexer": "ipython3",
   "version": "3.8.8"
  }
 },
 "nbformat": 4,
 "nbformat_minor": 5
}
