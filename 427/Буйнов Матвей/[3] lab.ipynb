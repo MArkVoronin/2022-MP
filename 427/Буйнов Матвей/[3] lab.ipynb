{
  "metadata": {
    "language_info": {
      "codemirror_mode": {
        "name": "python",
        "version": 3
      },
      "file_extension": ".py",
      "mimetype": "text/x-python",
      "name": "python",
      "nbconvert_exporter": "python",
      "pygments_lexer": "ipython3",
      "version": "3.8"
    },
    "kernelspec": {
      "name": "python",
      "display_name": "Python (Pyodide)",
      "language": "python"
    }
  },
  "nbformat_minor": 4,
  "nbformat": 4,
  "cells": [
    {
      "cell_type": "code",
      "source": "import numpy as np\nimport math\n\n\ndef X(a):\n    return((2-a)*math.exp(a))\n\ndef Find_x(eps,a,b,c):    \n    if(abs(X((a+b)/2)-X(a))<eps)or(abs(X((a+b)/2)-X(a))<eps):\n        print(\"x= \",(a+b)/2)\n    elif(X((a+b)/2)*c>0.):\n        Find_x(eps,(a+b)/2,b,c)\n    else:\n        Find_x(eps,a,(a+b)/2,c)\n    return()\n\n\na=1.\nb=5.\neps=10e-4\n#далее эти переменные не изменяются\n\nprint(\"Вариант №: \",len(\"Буйнов Матвей Владимирович\")%5)\nFind_x(eps,a,b,X(a))",
      "metadata": {
        "trusted": true
      },
      "execution_count": 2,
      "outputs": [
        {
          "name": "stdout",
          "text": "Вариант №:  1\nx=  1.9998779296875\n",
          "output_type": "stream"
        },
        {
          "execution_count": 2,
          "output_type": "execute_result",
          "data": {
            "text/plain": "()"
          },
          "metadata": {}
        }
      ]
    },
    {
      "cell_type": "code",
      "source": "",
      "metadata": {},
      "execution_count": null,
      "outputs": []
    }
  ]
}