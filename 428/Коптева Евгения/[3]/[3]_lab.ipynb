{
 "cells": [
  {
   "cell_type": "code",
   "execution_count": 8,
   "id": "4a2537ca",
   "metadata": {},
   "outputs": [
    {
     "name": "stdout",
     "output_type": "stream",
     "text": [
      "Вариант # 2\n",
      "Введите точность epsilon: 0.1\n",
      "Корень уравнения f(x) = x^2 - ln(1+x) равен 0.7913106595578011\n"
     ]
    }
   ],
   "source": [
    "import numpy as np\n",
    "\n",
    "L = len(\"Коптева Евгения Геннадьевна\")%5\n",
    "print('Вариант #', L) \n",
    "\n",
    "E = float(input(\"Введите точность epsilon: \")) \n",
    "x = 0.6\n",
    "\n",
    "def proizv(x): #производная функции\n",
    "    return (2*x - 1.0/(1+x)) \n",
    "\n",
    "def func(x):\n",
    "    return x - (x**2 - np.log(1+x))/proizv(x)\n",
    "\n",
    "def tochnost(x): # точность \n",
    "    return abs(func(x) - func(func(x)))\n",
    "\n",
    "def M_iter(x, E):\n",
    "    if tochnost(x) > E:\n",
    "        return M_iter(func(x), E)\n",
    "    else:\n",
    "        return func(x)\n",
    "\n",
    "\n",
    "print(\"Корень уравнения f(x) = x^2 - ln(1+x) равен\" ,M_iter(x, E)) "
   ]
  },
  {
   "cell_type": "code",
   "execution_count": null,
   "id": "be84a9a0",
   "metadata": {},
   "outputs": [],
   "source": []
  }
 ],
 "metadata": {
  "kernelspec": {
   "display_name": "Python 3 (ipykernel)",
   "language": "python",
   "name": "python3"
  },
  "language_info": {
   "codemirror_mode": {
    "name": "ipython",
    "version": 3
   },
   "file_extension": ".py",
   "mimetype": "text/x-python",
   "name": "python",
   "nbconvert_exporter": "python",
   "pygments_lexer": "ipython3",
   "version": "3.9.7"
  }
 },
 "nbformat": 4,
 "nbformat_minor": 5
}
