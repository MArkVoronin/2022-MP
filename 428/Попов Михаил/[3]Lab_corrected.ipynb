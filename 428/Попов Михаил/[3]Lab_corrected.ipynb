{
 "cells": [
  {
   "cell_type": "code",
   "execution_count": null,
   "id": "a4deb073",
   "metadata": {},
   "outputs": [],
   "source": [
    "import numpy as np\n",
    "import math\n",
    "\n",
    "a = len(\"Попов Михаил Сергеевич\")%5\n",
    "print('Мой вариант:', a) \n",
    "\n",
    "E = float(input(\"Введите точность эпсилон: \")) \n",
    "x = 0.6 # начальная точка, близкая к корню уравнения \n",
    "\n",
    "def lmd(x): # коэффициент лямбда = 1/f'(x_0)\n",
    "    return 1.0/(2*x - 1.0/(1+x)) \n",
    "\n",
    "lmd_1 = lmd(x) \n",
    "\n",
    "def func(x):\n",
    "    return x - lmd_1*(x**2 - math.log(1+x))\n",
    "\n",
    "def precision(x): # условие на точность \n",
    "    return abs(func(x) - func(func(x)))\n",
    "\n",
    "def solution(x, E):\n",
    "    if precision(x) > E:\n",
    "        return solution(func(x), E)\n",
    "    else:\n",
    "        return func(x)\n",
    "\n",
    "print(\"Моё уравнение: f(x) = x**2 - ln(1+x) = 0 \")\n",
    "print(\"Корень уравнения в окрестности точки x = \",x,'равен:', solution(x, E))  "
   ]
  }
 ],
 "metadata": {
  "kernelspec": {
   "display_name": "Python 3",
   "language": "python",
   "name": "python3"
  },
  "language_info": {
   "codemirror_mode": {
    "name": "ipython",
    "version": 3
   },
   "file_extension": ".py",
   "mimetype": "text/x-python",
   "name": "python",
   "nbconvert_exporter": "python",
   "pygments_lexer": "ipython3",
   "version": "3.8.8"
  }
 },
 "nbformat": 4,
 "nbformat_minor": 5
}
