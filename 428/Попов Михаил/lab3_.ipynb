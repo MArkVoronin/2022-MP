{
 "cells": [
  {
   "cell_type": "code",
   "execution_count": 2,
   "id": "57f5f303",
   "metadata": {},
   "outputs": [
    {
     "name": "stdout",
     "output_type": "stream",
     "text": [
      "точность: 0.0001\n",
      "количество итераций: 4\n",
      "х = 0.18743892638693616\n",
      "f(x) = -2.2416894784882402e-08\n"
     ]
    }
   ],
   "source": [
    "len(\"ПоповМихаилСергеевич\")%5\n",
    "\n",
    "\n",
    "import numpy as np\n",
    "\n",
    "# функция\n",
    "def f(x):\n",
    "    y = np.log(x) + (x + 1)**3\n",
    "    return y\n",
    "\n",
    "# производная f(x)\n",
    "def Df(x):\n",
    "    return 1/x + 3*(x + 1)**2\n",
    "\n",
    "def tangent_method(x, E):\n",
    "    q = 0\n",
    "    while (abs(f(x)) > E):\n",
    "        x = x - f(x)/Df(x)\n",
    "        q += 1\n",
    "    return x, q\n",
    "    \n",
    "\n",
    "E = input('точность: ')\n",
    "E = float(E)\n",
    "x = 1\n",
    "\n",
    "x, q = tangent_method(x, E)\n",
    "    \n",
    "\n",
    "print(\"количество итераций:\", q)\n",
    "print(\"х =\", x)\n",
    "print(\"f(x) =\", f(x))"
   ]
  },
  {
   "cell_type": "code",
   "execution_count": null,
   "id": "2ec26e94",
   "metadata": {},
   "outputs": [],
   "source": []
  }
 ],
 "metadata": {
  "kernelspec": {
   "display_name": "Python 3",
   "language": "python",
   "name": "python3"
  },
  "language_info": {
   "codemirror_mode": {
    "name": "ipython",
    "version": 3
   },
   "file_extension": ".py",
   "mimetype": "text/x-python",
   "name": "python",
   "nbconvert_exporter": "python",
   "pygments_lexer": "ipython3",
   "version": "3.8.8"
  }
 },
 "nbformat": 4,
 "nbformat_minor": 5
}
