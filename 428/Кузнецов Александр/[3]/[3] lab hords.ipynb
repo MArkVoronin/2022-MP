{
 "cells": [
  {
   "cell_type": "code",
   "execution_count": 14,
   "id": "ea91dd61",
   "metadata": {},
   "outputs": [
    {
     "name": "stdout",
     "output_type": "stream",
     "text": [
      "№ 3\n",
      "The answer is:  1.4164683524067905\n"
     ]
    }
   ],
   "source": [
    "import random\n",
    "import math\n",
    "\n",
    "print(\"№\", len('Кузнецов Александр Сергеевич')%5)\n",
    "\n",
    "def new_a(): \n",
    "    return float(-random.random()*random.random()/2)\n",
    "\n",
    "def new_b(): \n",
    "    return float(random.random()*random.random()*100)\n",
    "\n",
    "\n",
    "\n",
    "def F(x):\n",
    "    return math.log10(1+2*x)-2+x\n",
    "\n",
    "\n",
    "\n",
    "def new_k(a,b):\n",
    "    return float(((math.log10(1+2*a)-2+a)-(math.log10(1+2*b)-2+b))/(a-b))\n",
    "\n",
    "def new_d(a, b):\n",
    "    return float(math.log10(1+2*a)-2+a)-new_k(a,b)*a\n",
    "\n",
    "\n",
    "    \n",
    "\n",
    "def hords(a, b):\n",
    "    if (F(-new_d(a, b)/new_k(a,b))!=0):\n",
    "        if(F(a)*F(-new_d(a, b)/new_k(a,b))<0):\n",
    "            hords(a,(-new_d(a, b)/new_k(a,b)))\n",
    "        else:\n",
    "            hords((-new_d(a, b)/new_k(a,b)), b)\n",
    "    else:\n",
    "        print(\"The answer is: \", (-new_d(a, b)/new_k(a,b)))\n",
    "\n",
    "\n",
    "\n",
    "\n",
    "\n",
    "hords(new_a(), new_b())"
   ]
  },
  {
   "cell_type": "code",
   "execution_count": null,
   "id": "227ef1eb",
   "metadata": {},
   "outputs": [],
   "source": []
  },
  {
   "cell_type": "code",
   "execution_count": null,
   "id": "e23a19ca",
   "metadata": {},
   "outputs": [],
   "source": []
  }
 ],
 "metadata": {
  "kernelspec": {
   "display_name": "Python 3",
   "language": "python",
   "name": "python3"
  },
  "language_info": {
   "codemirror_mode": {
    "name": "ipython",
    "version": 3
   },
   "file_extension": ".py",
   "mimetype": "text/x-python",
   "name": "python",
   "nbconvert_exporter": "python",
   "pygments_lexer": "ipython3",
   "version": "3.8.8"
  }
 },
 "nbformat": 4,
 "nbformat_minor": 5
}
