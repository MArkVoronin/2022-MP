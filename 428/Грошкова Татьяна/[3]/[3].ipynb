{
 "cells": [
  {
   "cell_type": "code",
   "execution_count": 3,
   "id": "6c12918b",
   "metadata": {},
   "outputs": [
    {
     "name": "stdout",
     "output_type": "stream",
     "text": [
      "Введите точность вычислентя для функции f(x)=(2-x)exp(x):0.0001\n",
      "Корень уравнения: x=  1.9999995231628418\n"
     ]
    },
    {
     "data": {
      "text/plain": [
       "()"
      ]
     },
     "execution_count": 3,
     "metadata": {},
     "output_type": "execute_result"
    }
   ],
   "source": [
    "import numpy as np\n",
    "import math\n",
    "\n",
    "E=float(input(\"Введите точность вычислентя для функции f(x)=(2-x)exp(x):\"))\n",
    "def f(x):\n",
    "        return (2-x)*math.exp(x)\n",
    "def half(x0,x):\n",
    "    return (x0+x)/2\n",
    "a=1.\n",
    "def M_dih(x0,x,a):\n",
    "        if(abs(f(half(x0,x)-f(x0))) < E):\n",
    "                print(\"Корень уравнения: x= \",half(x0,x))\n",
    "        elif(f(half(x0,x)*a)>0):\n",
    "            M_dih(half(x0,x),x,a)\n",
    "        else:\n",
    "            M_dih(x0,half(x0,x),a)\n",
    "        return()\n",
    "                \n",
    "x0=1.\n",
    "x=3.\n",
    "M_dih(x0,x,a)"
   ]
  },
  {
   "cell_type": "code",
   "execution_count": null,
   "id": "b6ae728b",
   "metadata": {},
   "outputs": [],
   "source": []
  },
  {
   "cell_type": "code",
   "execution_count": null,
   "id": "45ee98e0",
   "metadata": {},
   "outputs": [],
   "source": []
  }
 ],
 "metadata": {
  "kernelspec": {
   "display_name": "Python 3 (ipykernel)",
   "language": "python",
   "name": "python3"
  },
  "language_info": {
   "codemirror_mode": {
    "name": "ipython",
    "version": 3
   },
   "file_extension": ".py",
   "mimetype": "text/x-python",
   "name": "python",
   "nbconvert_exporter": "python",
   "pygments_lexer": "ipython3",
   "version": "3.9.12"
  }
 },
 "nbformat": 4,
 "nbformat_minor": 5
}
